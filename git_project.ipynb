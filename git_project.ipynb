{
 "cells": [
  {
   "cell_type": "code",
   "execution_count": 1,
   "id": "de8d3b55-a4bb-456b-a96e-d42518ece6fc",
   "metadata": {},
   "outputs": [
    {
     "name": "stdout",
     "output_type": "stream",
     "text": [
      "On branch draft\n",
      "Untracked files:\n",
      "  (use \"git add <file>...\" to include in what will be committed)\n",
      "\t.ipynb_checkpoints/\n",
      "\tgit_project.ipynb\n",
      "\n",
      "nothing added to commit but untracked files present (use \"git add\" to track)\n"
     ]
    }
   ],
   "source": [
    "!git status"
   ]
  },
  {
   "cell_type": "code",
   "execution_count": 2,
   "id": "ca792e99-e4ce-42f7-a09d-a271d37c8b22",
   "metadata": {},
   "outputs": [
    {
     "name": "stdout",
     "output_type": "stream",
     "text": [
      "* draft\n",
      "  master\n"
     ]
    }
   ],
   "source": [
    "!git branch"
   ]
  },
  {
   "cell_type": "code",
   "execution_count": 3,
   "id": "14d82067-f89c-41db-93a7-3fbe195fefb3",
   "metadata": {},
   "outputs": [
    {
     "name": "stderr",
     "output_type": "stream",
     "text": [
      "Switched to branch 'master'\n"
     ]
    }
   ],
   "source": [
    "!git checkout master"
   ]
  },
  {
   "cell_type": "code",
   "execution_count": 4,
   "id": "098cbf67-8293-4275-9b66-21c5d9bb8184",
   "metadata": {},
   "outputs": [
    {
     "name": "stdout",
     "output_type": "stream",
     "text": [
      " ’®¬ ў гбва®©бвўҐ C ­Ґ Ё¬ҐҐв ¬ҐвЄЁ.\n",
      " ‘ҐаЁ©­л© ­®¬Ґа в®¬ : 7202-A69A\n",
      "\n",
      " ‘®¤Ґа¦Ё¬®Ґ Ї ЇЄЁ C:\\Users\\astonuser\\da_project_git\n",
      "\n",
      "23.09.2024  21:01    <DIR>          .\n",
      "23.09.2024  21:00    <DIR>          ..\n",
      "04.09.2024  05:18                32 .gitignore\n",
      "23.09.2024  21:01    <DIR>          .ipynb_checkpoints\n",
      "23.09.2024  21:01               337 git_project.ipynb\n",
      "23.09.2024  20:56             1я969 requirements.txt\n",
      "23.09.2024  20:44    <DIR>          ve\n",
      "               3 д ©«®ў          2я338 Ў ©в\n",
      "               4 Ї Ї®Є  310я891я470я848 Ў ©в бў®Ў®¤­®\n"
     ]
    }
   ],
   "source": [
    "!dir"
   ]
  },
  {
   "cell_type": "code",
   "execution_count": 5,
   "id": "1c712656-6acf-4dc0-a246-63d9d06cf2b8",
   "metadata": {},
   "outputs": [
    {
     "name": "stderr",
     "output_type": "stream",
     "text": [
      "Switched to branch 'draft'\n"
     ]
    }
   ],
   "source": [
    "!git checkout draft"
   ]
  },
  {
   "cell_type": "code",
   "execution_count": 6,
   "id": "ca6ec5df-c341-433c-85c9-f7ea7933467f",
   "metadata": {},
   "outputs": [],
   "source": [
    "import pandas as pd"
   ]
  },
  {
   "cell_type": "code",
   "execution_count": 7,
   "id": "577903ef-5fb3-499c-b7d1-d42c43d590f1",
   "metadata": {},
   "outputs": [],
   "source": [
    "fio = \"Postnikov Sergey Alexandrovich\""
   ]
  },
  {
   "cell_type": "code",
   "execution_count": 8,
   "id": "8bb91935-4d46-49fb-984f-6464d5458541",
   "metadata": {},
   "outputs": [
    {
     "data": {
      "text/plain": [
       "['l',\n",
       " 'o',\n",
       " 'g',\n",
       " 'y',\n",
       " 'k',\n",
       " 't',\n",
       " 'd',\n",
       " 'e',\n",
       " 'S',\n",
       " 'r',\n",
       " 'c',\n",
       " 'n',\n",
       " 'a',\n",
       " 'h',\n",
       " 'v',\n",
       " ' ',\n",
       " 'i',\n",
       " 'A',\n",
       " 'P',\n",
       " 's',\n",
       " 'x']"
      ]
     },
     "execution_count": 8,
     "metadata": {},
     "output_type": "execute_result"
    }
   ],
   "source": [
    "list(set(list(fio)))"
   ]
  },
  {
   "cell_type": "code",
   "execution_count": 9,
   "id": "1c08c11f-2764-47d4-8886-af5244990193",
   "metadata": {},
   "outputs": [
    {
     "data": {
      "text/plain": [
       "0     P\n",
       "1     o\n",
       "2     s\n",
       "3     t\n",
       "4     n\n",
       "5     i\n",
       "6     k\n",
       "7     o\n",
       "8     v\n",
       "9      \n",
       "10    S\n",
       "11    e\n",
       "12    r\n",
       "13    g\n",
       "14    e\n",
       "15    y\n",
       "16     \n",
       "17    A\n",
       "18    l\n",
       "19    e\n",
       "20    x\n",
       "21    a\n",
       "22    n\n",
       "23    d\n",
       "24    r\n",
       "25    o\n",
       "26    v\n",
       "27    i\n",
       "28    c\n",
       "29    h\n",
       "Name: FIO, dtype: object"
      ]
     },
     "execution_count": 9,
     "metadata": {},
     "output_type": "execute_result"
    }
   ],
   "source": [
    "s = pd.Series(list(fio), name='FIO')\n",
    "s"
   ]
  },
  {
   "cell_type": "code",
   "execution_count": 11,
   "id": "e7893091-ca8b-42f8-bd6e-4d3c36365be4",
   "metadata": {},
   "outputs": [
    {
     "data": {
      "text/html": [
       "<div>\n",
       "<style scoped>\n",
       "    .dataframe tbody tr th:only-of-type {\n",
       "        vertical-align: middle;\n",
       "    }\n",
       "\n",
       "    .dataframe tbody tr th {\n",
       "        vertical-align: top;\n",
       "    }\n",
       "\n",
       "    .dataframe thead th {\n",
       "        text-align: right;\n",
       "    }\n",
       "</style>\n",
       "<table border=\"1\" class=\"dataframe\">\n",
       "  <thead>\n",
       "    <tr style=\"text-align: right;\">\n",
       "      <th></th>\n",
       "      <th>FIO</th>\n",
       "    </tr>\n",
       "  </thead>\n",
       "  <tbody>\n",
       "    <tr>\n",
       "      <th>0</th>\n",
       "      <td>P</td>\n",
       "    </tr>\n",
       "    <tr>\n",
       "      <th>1</th>\n",
       "      <td>o</td>\n",
       "    </tr>\n",
       "    <tr>\n",
       "      <th>2</th>\n",
       "      <td>s</td>\n",
       "    </tr>\n",
       "    <tr>\n",
       "      <th>3</th>\n",
       "      <td>t</td>\n",
       "    </tr>\n",
       "    <tr>\n",
       "      <th>4</th>\n",
       "      <td>n</td>\n",
       "    </tr>\n",
       "    <tr>\n",
       "      <th>5</th>\n",
       "      <td>i</td>\n",
       "    </tr>\n",
       "    <tr>\n",
       "      <th>6</th>\n",
       "      <td>k</td>\n",
       "    </tr>\n",
       "    <tr>\n",
       "      <th>7</th>\n",
       "      <td>o</td>\n",
       "    </tr>\n",
       "    <tr>\n",
       "      <th>8</th>\n",
       "      <td>v</td>\n",
       "    </tr>\n",
       "    <tr>\n",
       "      <th>9</th>\n",
       "      <td></td>\n",
       "    </tr>\n",
       "    <tr>\n",
       "      <th>10</th>\n",
       "      <td>S</td>\n",
       "    </tr>\n",
       "    <tr>\n",
       "      <th>11</th>\n",
       "      <td>e</td>\n",
       "    </tr>\n",
       "    <tr>\n",
       "      <th>12</th>\n",
       "      <td>r</td>\n",
       "    </tr>\n",
       "    <tr>\n",
       "      <th>13</th>\n",
       "      <td>g</td>\n",
       "    </tr>\n",
       "    <tr>\n",
       "      <th>14</th>\n",
       "      <td>e</td>\n",
       "    </tr>\n",
       "    <tr>\n",
       "      <th>15</th>\n",
       "      <td>y</td>\n",
       "    </tr>\n",
       "    <tr>\n",
       "      <th>16</th>\n",
       "      <td></td>\n",
       "    </tr>\n",
       "    <tr>\n",
       "      <th>17</th>\n",
       "      <td>A</td>\n",
       "    </tr>\n",
       "    <tr>\n",
       "      <th>18</th>\n",
       "      <td>l</td>\n",
       "    </tr>\n",
       "    <tr>\n",
       "      <th>19</th>\n",
       "      <td>e</td>\n",
       "    </tr>\n",
       "    <tr>\n",
       "      <th>20</th>\n",
       "      <td>x</td>\n",
       "    </tr>\n",
       "    <tr>\n",
       "      <th>21</th>\n",
       "      <td>a</td>\n",
       "    </tr>\n",
       "    <tr>\n",
       "      <th>22</th>\n",
       "      <td>n</td>\n",
       "    </tr>\n",
       "    <tr>\n",
       "      <th>23</th>\n",
       "      <td>d</td>\n",
       "    </tr>\n",
       "    <tr>\n",
       "      <th>24</th>\n",
       "      <td>r</td>\n",
       "    </tr>\n",
       "    <tr>\n",
       "      <th>25</th>\n",
       "      <td>o</td>\n",
       "    </tr>\n",
       "    <tr>\n",
       "      <th>26</th>\n",
       "      <td>v</td>\n",
       "    </tr>\n",
       "    <tr>\n",
       "      <th>27</th>\n",
       "      <td>i</td>\n",
       "    </tr>\n",
       "    <tr>\n",
       "      <th>28</th>\n",
       "      <td>c</td>\n",
       "    </tr>\n",
       "    <tr>\n",
       "      <th>29</th>\n",
       "      <td>h</td>\n",
       "    </tr>\n",
       "  </tbody>\n",
       "</table>\n",
       "</div>"
      ],
      "text/plain": [
       "   FIO\n",
       "0    P\n",
       "1    o\n",
       "2    s\n",
       "3    t\n",
       "4    n\n",
       "5    i\n",
       "6    k\n",
       "7    o\n",
       "8    v\n",
       "9     \n",
       "10   S\n",
       "11   e\n",
       "12   r\n",
       "13   g\n",
       "14   e\n",
       "15   y\n",
       "16    \n",
       "17   A\n",
       "18   l\n",
       "19   e\n",
       "20   x\n",
       "21   a\n",
       "22   n\n",
       "23   d\n",
       "24   r\n",
       "25   o\n",
       "26   v\n",
       "27   i\n",
       "28   c\n",
       "29   h"
      ]
     },
     "execution_count": 11,
     "metadata": {},
     "output_type": "execute_result"
    }
   ],
   "source": [
    "df = pd.DataFrame(s)\n",
    "df"
   ]
  },
  {
   "cell_type": "code",
   "execution_count": 12,
   "id": "79c59a9f-1c6f-461a-9566-4ca25da57b7d",
   "metadata": {},
   "outputs": [
    {
     "data": {
      "text/plain": [
       "FIO\n",
       "o    3\n",
       "e    3\n",
       "n    2\n",
       "i    2\n",
       "     2\n",
       "r    2\n",
       "v    2\n",
       "P    1\n",
       "s    1\n",
       "t    1\n",
       "k    1\n",
       "S    1\n",
       "g    1\n",
       "y    1\n",
       "A    1\n",
       "l    1\n",
       "x    1\n",
       "a    1\n",
       "d    1\n",
       "c    1\n",
       "h    1\n",
       "Name: count, dtype: int64"
      ]
     },
     "execution_count": 12,
     "metadata": {},
     "output_type": "execute_result"
    }
   ],
   "source": [
    "s.value_counts()"
   ]
  },
  {
   "cell_type": "code",
   "execution_count": 13,
   "id": "0da152eb-d48b-4c8d-bca5-a0055ea252ea",
   "metadata": {},
   "outputs": [
    {
     "data": {
      "text/plain": [
       "FIO\n",
       "o    3\n",
       "e    3\n",
       "n    2\n",
       "i    2\n",
       "     2\n",
       "r    2\n",
       "v    2\n",
       "Name: count, dtype: int64"
      ]
     },
     "execution_count": 13,
     "metadata": {},
     "output_type": "execute_result"
    }
   ],
   "source": [
    "s.value_counts()[s.value_counts()>1]"
   ]
  },
  {
   "cell_type": "code",
   "execution_count": 14,
   "id": "b0e8e144-3d06-45b0-9396-afb2d21795d2",
   "metadata": {},
   "outputs": [
    {
     "data": {
      "text/plain": [
       "FIO\n",
       "o    3\n",
       "e    3\n",
       "n    2\n",
       "i    2\n",
       "     2\n",
       "r    2\n",
       "v    2\n",
       "P    1\n",
       "s    1\n",
       "t    1\n",
       "k    1\n",
       "S    1\n",
       "g    1\n",
       "y    1\n",
       "A    1\n",
       "l    1\n",
       "x    1\n",
       "a    1\n",
       "d    1\n",
       "c    1\n",
       "h    1\n",
       "Name: count, dtype: int64"
      ]
     },
     "execution_count": 14,
     "metadata": {},
     "output_type": "execute_result"
    }
   ],
   "source": [
    "df['FIO'].value_counts()"
   ]
  },
  {
   "cell_type": "code",
   "execution_count": 19,
   "id": "81031749-2a42-432b-a373-fe1baa81e6ae",
   "metadata": {},
   "outputs": [],
   "source": [
    "df.to_csv('fio.csv')"
   ]
  },
  {
   "cell_type": "code",
   "execution_count": 20,
   "id": "4b29448b-de6b-41ac-8322-9820f58d9d37",
   "metadata": {},
   "outputs": [
    {
     "name": "stdout",
     "output_type": "stream",
     "text": [
      "On branch draft\n",
      "Untracked files:\n",
      "  (use \"git add <file>...\" to include in what will be committed)\n",
      "\t.ipynb_checkpoints/\n",
      "\tfio.csv\n",
      "\tgit_project.ipynb\n",
      "\n",
      "nothing added to commit but untracked files present (use \"git add\" to track)\n"
     ]
    }
   ],
   "source": [
    "!git status"
   ]
  },
  {
   "cell_type": "code",
   "execution_count": 21,
   "id": "0c1dec3d-81c9-43a2-a6d3-e6bd3ab8872a",
   "metadata": {},
   "outputs": [
    {
     "name": "stderr",
     "output_type": "stream",
     "text": [
      "git: 'add-commit' is not a git command. See 'git --help'.\n"
     ]
    }
   ],
   "source": [
    "!git add-commit -m \"release v0.1.0\""
   ]
  },
  {
   "cell_type": "code",
   "execution_count": null,
   "id": "ce5eb077-5ce9-4cb1-95b4-0c9ac5717fa5",
   "metadata": {},
   "outputs": [],
   "source": []
  }
 ],
 "metadata": {
  "kernelspec": {
   "display_name": "Python 3 (ipykernel)",
   "language": "python",
   "name": "python3"
  },
  "language_info": {
   "codemirror_mode": {
    "name": "ipython",
    "version": 3
   },
   "file_extension": ".py",
   "mimetype": "text/x-python",
   "name": "python",
   "nbconvert_exporter": "python",
   "pygments_lexer": "ipython3",
   "version": "3.12.5"
  }
 },
 "nbformat": 4,
 "nbformat_minor": 5
}
